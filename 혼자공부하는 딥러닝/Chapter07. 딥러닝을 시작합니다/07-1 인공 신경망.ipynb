{
 "cells": [
  {
   "cell_type": "markdown",
   "metadata": {},
   "source": [
    "https://github.com/rickiepark/hg-mldl/blob/master/7-1.ipynb"
   ]
  },
  {
   "cell_type": "code",
   "execution_count": 4,
   "metadata": {},
   "outputs": [],
   "source": [
    "import tensorflow as tf\n",
    "\n",
    "tf.keras.utils.set_random_seed(42)\n",
    "tf.config.experimental.enable_op_determinism()\n"
   ]
  },
  {
   "cell_type": "code",
   "execution_count": 6,
   "metadata": {},
   "outputs": [
    {
     "name": "stdout",
     "output_type": "stream",
     "text": [
      "Downloading data from https://storage.googleapis.com/tensorflow/tf-keras-datasets/train-labels-idx1-ubyte.gz\n",
      "29515/29515 [==============================] - 0s 0us/step\n",
      "Downloading data from https://storage.googleapis.com/tensorflow/tf-keras-datasets/train-images-idx3-ubyte.gz\n",
      "26421880/26421880 [==============================] - 1s 0us/step\n",
      "Downloading data from https://storage.googleapis.com/tensorflow/tf-keras-datasets/t10k-labels-idx1-ubyte.gz\n",
      "5148/5148 [==============================] - 0s 0s/step\n",
      "Downloading data from https://storage.googleapis.com/tensorflow/tf-keras-datasets/t10k-images-idx3-ubyte.gz\n",
      "4422102/4422102 [==============================] - 0s 0us/step\n"
     ]
    }
   ],
   "source": [
    "from tensorflow import keras\n",
    "\n",
    "(train_input, train_target), (test_input, test_target) = keras.datasets.fashion_mnist.load_data()"
   ]
  },
  {
   "cell_type": "code",
   "execution_count": 7,
   "metadata": {},
   "outputs": [
    {
     "name": "stdout",
     "output_type": "stream",
     "text": [
      "(60000, 28, 28) (60000,)\n"
     ]
    }
   ],
   "source": [
    "print(train_input.shape, train_target.shape)"
   ]
  },
  {
   "cell_type": "code",
   "execution_count": 41,
   "metadata": {},
   "outputs": [
    {
     "data": {
      "text/plain": [
       "array([[  0,   0,   0,   0,   0,   0,   0,   0,   0,   0,   0,   0,  61,\n",
       "        151, 164, 161, 101,   0,   0,   0,   0,   0,   0,   0,   0,   0,\n",
       "          0,   0],\n",
       "       [  0,   0,   0,   0,   0,   0,   0,   0,   1,   0,   0, 150, 241,\n",
       "         96,  21,  48, 200, 206,   0,   0,   3,   0,   0,   0,   0,   0,\n",
       "          0,   0],\n",
       "       [  0,   0,   0,   0,   0,   0,   0,   1,   0,   0, 132, 213,   0,\n",
       "          0,   0,   0,   0, 169, 151,   0,   0,   1,   0,   0,   0,   0,\n",
       "          0,   0],\n",
       "       [  0,   0,   0,   0,   0,   1,   0,   0,   0,  54, 191,   0,   0,\n",
       "          3,   0,   2,   0,   0, 172,  90,   0,   4,   0,   0,   0,   0,\n",
       "          0,   0],\n",
       "       [  0,   0,   0,   0,   0,   0,   1,   0,   0, 169, 111,   0,   0,\n",
       "          0,   0,   0,   2,   0,  82, 181,   0,   0,   2,   0,   0,   0,\n",
       "          0,   0],\n",
       "       [  0,   0,   0,   0,   0,   0,   2,   0,  86, 202,  73,   0,   0,\n",
       "          0,   0,   0,   0,   0,   0, 176,  88,   0,   0,   0,   0,   0,\n",
       "          0,   0],\n",
       "       [  0,   0,   0,   0,   0,   0,   0,   0, 133, 189, 141,   0,   0,\n",
       "          0,   0,   0,   0,   0,   0, 139, 169,   0,   0,   1,   0,   0,\n",
       "          0,   0],\n",
       "       [  0,   0,   0,   0,   0,   0,   0,   0, 138, 176, 132,   0,   1,\n",
       "          0,   0,   0,   2,   0,  32, 168, 171,  28,   0,   5,   0,   0,\n",
       "          0,   0],\n",
       "       [  0,   0,   1,   5,   3,   1,   0,   3, 166, 190,  83,   0,   0,\n",
       "          2,   2,   1,   4,   0,  73, 186, 152,  18,   0,   3,   0,   0,\n",
       "          0,   0],\n",
       "       [  0,   0,   0,   0,   0,   0,   0,   2, 186, 180,  88,   0,   0,\n",
       "          0,   0,   0,   0,   0,  69, 199, 167,  11,   0,   0,   1,   3,\n",
       "          0,   0],\n",
       "       [  0,   0,   0,  75, 113,  41,   2,  72, 238, 160,  77,   0,   0,\n",
       "          0,   0,   0,   0,   0,  90, 194, 205,   5,   0,   0,   0,   0,\n",
       "          0,   0],\n",
       "       [  0,   0,  16, 206, 217, 201, 223, 198, 201, 188, 205, 189, 201,\n",
       "        205, 223, 240, 231, 246, 223, 190, 190, 160, 192, 186, 168,  31,\n",
       "          0,   0],\n",
       "       [  0,   0, 201, 208, 197, 209, 204, 173, 198, 191, 204, 231, 215,\n",
       "        211, 198, 215, 212, 206, 194, 210, 187, 193, 210, 208, 226, 160,\n",
       "          0,   0],\n",
       "       [  0,  23, 230, 187, 199, 201, 199, 169, 189, 177, 187, 199, 206,\n",
       "        196, 189, 203, 204, 209, 187, 193, 173, 186, 200, 190, 172, 156,\n",
       "          0,   0],\n",
       "       [  0,   0, 186, 200, 207, 205, 194, 175, 187, 169, 197, 206, 203,\n",
       "        180, 188, 202, 203, 202, 169, 185, 166, 183, 193, 203, 153, 211,\n",
       "         74,   0],\n",
       "       [  0,  36, 207, 191, 205, 208, 174, 157, 188, 163, 194, 203, 200,\n",
       "        181, 194, 207, 202, 196, 150, 174, 166, 189, 206, 193, 149, 171,\n",
       "         52,   0],\n",
       "       [  0,  84, 195, 169, 197, 208, 179, 147, 186, 157, 193, 206, 194,\n",
       "        184, 189, 207, 204, 180, 129, 175, 174, 183, 201, 174, 143, 196,\n",
       "         64,   0],\n",
       "       [  0, 148, 206, 185, 203, 203, 180, 156, 194, 162, 197, 208, 203,\n",
       "        182, 186, 210, 209, 172, 123, 195, 172, 168, 205, 194, 138, 205,\n",
       "        116,   0],\n",
       "       [  0, 214, 215, 180, 198, 204, 175, 161, 189, 166, 196, 206, 205,\n",
       "        172, 191, 205, 198, 176, 137, 198, 164, 170, 183, 219, 176, 167,\n",
       "        148,   0],\n",
       "       [  0,  77, 232, 201, 197, 197, 178, 170, 187, 181, 205, 209, 210,\n",
       "        182, 194, 211, 201, 186, 165, 201, 173, 195, 185, 182, 224, 174,\n",
       "        163,   0],\n",
       "       [  0,  80, 229, 200, 197, 196, 193, 180, 194, 192, 211, 210, 215,\n",
       "        191, 203, 207, 202, 198, 169, 198, 176, 202, 184, 169, 180, 206,\n",
       "        175,   0],\n",
       "       [  0, 111, 228, 195, 196, 198, 180, 182, 200, 190, 206, 207, 213,\n",
       "        193, 202, 206, 205, 213, 180, 186, 143, 197, 204, 186, 171, 185,\n",
       "        182,   0],\n",
       "       [  0, 113, 232, 197, 202, 199, 191, 201, 204, 196, 208, 206, 211,\n",
       "        194, 203, 206, 206, 195, 175, 199, 178, 180, 192, 196, 202, 184,\n",
       "        149,   0],\n",
       "       [  0,  77, 230, 193, 187, 200, 197, 199, 202, 206, 212, 207, 212,\n",
       "        192, 198, 202, 204, 201, 191, 194, 196, 204, 209, 173, 185, 222,\n",
       "         92,   0],\n",
       "       [  0,  34, 211, 189, 195, 210, 200, 200, 206, 196, 210, 213, 216,\n",
       "        210, 213, 211, 212, 197, 182, 200, 196, 204, 210, 195, 173, 225,\n",
       "         33,   0],\n",
       "       [  0,  10, 223, 189, 201, 204, 191, 186, 194, 182, 207, 194, 180,\n",
       "        181, 185, 177, 200, 194, 182, 198, 192, 202, 204, 187, 190, 197,\n",
       "          0,   0],\n",
       "       [  0,   0, 177, 255, 220, 236, 221, 217, 221, 206, 229, 223, 219,\n",
       "        204, 209, 210, 219, 205, 195, 205, 206, 229, 226, 232, 219,  52,\n",
       "          0,   0],\n",
       "       [  0,   0,   0,  56,  94, 120, 119, 127, 134, 145, 150, 151, 158,\n",
       "        159, 165, 169, 161, 150, 146, 136, 128, 139, 129,  95,   7,   0,\n",
       "          0,   0]], dtype=uint8)"
      ]
     },
     "execution_count": 41,
     "metadata": {},
     "output_type": "execute_result"
    }
   ],
   "source": [
    "train_input[4000]"
   ]
  },
  {
   "cell_type": "code",
   "execution_count": 48,
   "metadata": {},
   "outputs": [
    {
     "data": {
      "text/plain": [
       "array([  0,   0,   0,   0,   0,   0,   1,   0,   0, 169, 111,   0,   0,\n",
       "         0,   0,   0,   2,   0,  82, 181,   0,   0,   2,   0,   0,   0,\n",
       "         0,   0], dtype=uint8)"
      ]
     },
     "execution_count": 48,
     "metadata": {},
     "output_type": "execute_result"
    }
   ],
   "source": [
    "train_input[4000,4]"
   ]
  },
  {
   "cell_type": "code",
   "execution_count": 8,
   "metadata": {},
   "outputs": [
    {
     "name": "stdout",
     "output_type": "stream",
     "text": [
      "(10000, 28, 28) (10000,)\n"
     ]
    }
   ],
   "source": [
    "print(test_input.shape, test_target.shape)"
   ]
  },
  {
   "cell_type": "code",
   "execution_count": 47,
   "metadata": {},
   "outputs": [
    {
     "data": {
      "image/png": "[encoded data removed]",
      "text/plain": [
       "<Figure size 1500x1500 with 30 Axes>"
      ]
     },
     "metadata": {},
     "output_type": "display_data"
    }
   ],
   "source": [
    "import matplotlib.pyplot as plt\n",
    "\n",
    "fig, axs = plt.subplots(1, 30, figsize=(15,15))\n",
    "\n",
    "for i in range(30):\n",
    "    axs[i].imshow(train_input[i])\n",
    "    axs[i].axis('off')\n",
    "plt.show()"
   ]
  },
  {
   "cell_type": "code",
   "execution_count": 20,
   "metadata": {},
   "outputs": [
    {
     "data": {
      "image/png": "[encoded data removed]",
      "text/plain": [
       "<Figure size 1500x1500 with 10 Axes>"
      ]
     },
     "metadata": {},
     "output_type": "display_data"
    }
   ],
   "source": [
    "import matplotlib.pyplot as plt\n",
    "\n",
    "fig, axs = plt.subplots(1, 10, figsize=(15,15))\n",
    "\n",
    "# train_input[i] => 28 * 28 \n",
    "\n",
    "for i in range(10):\n",
    "    axs[i].imshow(train_input[i], cmap='gray_r')\n",
    "    # axs[i].axis('off')\n",
    "    axs[i].spines['right'].set_visible(False)\n",
    "    axs[i].spines['top'].set_visible(False)\n",
    "plt.show()"
   ]
  },
  {
   "cell_type": "code",
   "execution_count": 16,
   "metadata": {},
   "outputs": [
    {
     "name": "stdout",
     "output_type": "stream",
     "text": [
      "[9, 0, 0, 3, 0, 2, 7, 2, 5, 5]\n"
     ]
    }
   ],
   "source": [
    "\n",
    "print([train_target[i] for i in range(10)])"
   ]
  },
  {
   "cell_type": "code",
   "execution_count": 17,
   "metadata": {},
   "outputs": [
    {
     "name": "stdout",
     "output_type": "stream",
     "text": [
      "(array([0, 1, 2, 3, 4, 5, 6, 7, 8, 9], dtype=uint8), array([6000, 6000, 6000, 6000, 6000, 6000, 6000, 6000, 6000, 6000],\n",
      "      dtype=int64))\n"
     ]
    }
   ],
   "source": [
    "import numpy as np\n",
    "# 테스트용이엉서 데이터가 깔끔한 상\n",
    "print(np.unique(train_target, return_counts=True))"
   ]
  },
  {
   "cell_type": "markdown",
   "metadata": {},
   "source": [
    "# 로지스틱 회귀로 패션 아이템 분류하기"
   ]
  },
  {
   "cell_type": "code",
   "execution_count": 52,
   "metadata": {},
   "outputs": [],
   "source": [
    "train_scaled = train_input / 255.0\n",
    "# print(train_scaled[0])\n",
    "train_scaled = train_scaled.reshape(-1, 28*28)"
   ]
  },
  {
   "cell_type": "code",
   "execution_count": 53,
   "metadata": {},
   "outputs": [
    {
     "name": "stdout",
     "output_type": "stream",
     "text": [
      "(60000, 784)\n"
     ]
    }
   ],
   "source": [
    "# (60000, 28, 28) 에서 (60000, 784) 변경 \n",
    "print(train_scaled.shape)"
   ]
  },
  {
   "cell_type": "code",
   "execution_count": 60,
   "metadata": {},
   "outputs": [
    {
     "name": "stdout",
     "output_type": "stream",
     "text": [
      "0.8192833333333333\n"
     ]
    }
   ],
   "source": [
    "from sklearn.model_selection import cross_validate\n",
    "from sklearn.linear_model import SGDClassifier\n",
    "\n",
    "# 반복횟수 (max_iter)\n",
    "sc = SGDClassifier(loss='log_loss', max_iter=5, random_state=42)\n",
    "\n",
    "scores = cross_validate(sc, train_scaled, train_target, n_jobs=-1)\n",
    "print(np.mean(scores['test_score']))"
   ]
  },
  {
   "cell_type": "code",
   "execution_count": 59,
   "metadata": {},
   "outputs": [
    {
     "name": "stdout",
     "output_type": "stream",
     "text": [
      "0.8313833333333334\n"
     ]
    }
   ],
   "source": [
    "from sklearn.model_selection import cross_validate\n",
    "from sklearn.linear_model import SGDClassifier\n",
    "\n",
    "# 반복횟수 (max_iter)\n",
    "sc = SGDClassifier(loss='log_loss', max_iter=10, random_state=42)\n",
    "\n",
    "scores = cross_validate(sc, train_scaled, train_target, n_jobs=-1)\n",
    "print(np.mean(scores['test_score']))"
   ]
  },
  {
   "cell_type": "markdown",
   "metadata": {},
   "source": [
    "# 인공신경망으로 모델 만들기"
   ]
  },
  {
   "cell_type": "code",
   "execution_count": 61,
   "metadata": {},
   "outputs": [],
   "source": [
    "\n",
    "import tensorflow as tf\n",
    "\n",
    "from tensorflow import keras"
   ]
  },
  {
   "cell_type": "code",
   "execution_count": 62,
   "metadata": {},
   "outputs": [],
   "source": [
    "from sklearn.model_selection import train_test_split\n",
    "\n",
    "train_scaled, val_scaled, train_target, val_target = train_test_split(\n",
    "    train_scaled, train_target, test_size=0.2, random_state=42)"
   ]
  },
  {
   "cell_type": "code",
   "execution_count": 63,
   "metadata": {},
   "outputs": [
    {
     "name": "stdout",
     "output_type": "stream",
     "text": [
      "(48000, 784) (48000,)\n"
     ]
    }
   ],
   "source": [
    "print(train_scaled.shape, train_target.shape)"
   ]
  },
  {
   "cell_type": "code",
   "execution_count": 64,
   "metadata": {},
   "outputs": [
    {
     "name": "stdout",
     "output_type": "stream",
     "text": [
      "(12000, 784) (12000,)\n"
     ]
    }
   ],
   "source": [
    "print(val_scaled.shape, val_target.shape)"
   ]
  },
  {
   "cell_type": "code",
   "execution_count": 65,
   "metadata": {},
   "outputs": [],
   "source": [
    "dense = keras.layers.Dense(10, activation='softmax', input_shape=(784,))"
   ]
  },
  {
   "cell_type": "code",
   "execution_count": 66,
   "metadata": {},
   "outputs": [],
   "source": [
    "\n",
    "model = keras.Sequential(dense)"
   ]
  },
  {
   "cell_type": "markdown",
   "metadata": {},
   "source": [
    "# 인공신경망으로 패션 아이템 분류하기"
   ]
  },
  {
   "cell_type": "code",
   "execution_count": 67,
   "metadata": {},
   "outputs": [],
   "source": [
    "model.compile(loss='sparse_categorical_crossentropy', metrics='accuracy')"
   ]
  },
  {
   "cell_type": "code",
   "execution_count": 68,
   "metadata": {},
   "outputs": [
    {
     "name": "stdout",
     "output_type": "stream",
     "text": [
      "[7 3 5 8 6 9 3 3 9 9]\n"
     ]
    }
   ],
   "source": [
    "print(train_target[:10])"
   ]
  },
  {
   "cell_type": "code",
   "execution_count": 69,
   "metadata": {},
   "outputs": [
    {
     "name": "stdout",
     "output_type": "stream",
     "text": [
      "Epoch 1/5\n",
      "1500/1500 [==============================] - 1s 697us/step - loss: 0.6069 - accuracy: 0.7947\n",
      "Epoch 2/5\n",
      "1500/1500 [==============================] - 1s 705us/step - loss: 0.4742 - accuracy: 0.8382\n",
      "Epoch 3/5\n",
      "1500/1500 [==============================] - 1s 706us/step - loss: 0.4508 - accuracy: 0.8474\n",
      "Epoch 4/5\n",
      "1500/1500 [==============================] - 1s 707us/step - loss: 0.4367 - accuracy: 0.8527\n",
      "Epoch 5/5\n",
      "1500/1500 [==============================] - 1s 721us/step - loss: 0.4280 - accuracy: 0.8555\n"
     ]
    },
    {
     "data": {
      "text/plain": [
       "<keras.src.callbacks.History at 0x23688e7fe20>"
      ]
     },
     "execution_count": 69,
     "metadata": {},
     "output_type": "execute_result"
    }
   ],
   "source": [
    "model.fit(train_scaled, train_target, epochs=5)"
   ]
  },
  {
   "cell_type": "code",
   "execution_count": 70,
   "metadata": {},
   "outputs": [
    {
     "name": "stdout",
     "output_type": "stream",
     "text": [
      "375/375 [==============================] - 0s 659us/step - loss: 0.4526 - accuracy: 0.8465\n"
     ]
    },
    {
     "data": {
      "text/plain": [
       "[0.45262548327445984, 0.8464999794960022]"
      ]
     },
     "execution_count": 70,
     "metadata": {},
     "output_type": "execute_result"
    }
   ],
   "source": [
    "model.evaluate(val_scaled, val_target)"
   ]
  },
  {
   "cell_type": "markdown",
   "metadata": {},
   "source": []
  }
 ],
 "metadata": {
  "kernelspec": {
   "display_name": "t3q_test",
   "language": "python",
   "name": "python3"
  },
  "language_info": {
   "codemirror_mode": {
    "name": "ipython",
    "version": 3
   },
   "file_extension": ".py",
   "mimetype": "text/x-python",
   "name": "python",
   "nbconvert_exporter": "python",
   "pygments_lexer": "ipython3",
   "version": "3.8.0"
  }
 },
 "nbformat": 4,
 "nbformat_minor": 2
}
